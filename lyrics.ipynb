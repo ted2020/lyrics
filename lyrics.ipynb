{
 "cells": [
  {
   "cell_type": "code",
   "execution_count": 5,
   "metadata": {},
   "outputs": [
    {
     "name": "stderr",
     "output_type": "stream",
     "text": [
      "-- Attaching packages --------------------------------------- tidyverse 1.2.1 --\n",
      "v tibble  2.1.3     v purrr   0.3.2\n",
      "v tidyr   0.8.3     v stringr 1.4.0\n",
      "v readr   1.3.1     v forcats 0.4.0\n",
      "-- Conflicts ------------------------------------------ tidyverse_conflicts() --\n",
      "x dplyr::filter()  masks stats::filter()\n",
      "x purrr::flatten() masks jsonlite::flatten()\n",
      "x dplyr::lag()     masks stats::lag()\n",
      "Loading required package: NLP\n",
      "\n",
      "Attaching package: 'NLP'\n",
      "\n",
      "The following object is masked from 'package:ggplot2':\n",
      "\n",
      "    annotate\n",
      "\n"
     ]
    }
   ],
   "source": [
    "library(dplyr)\n",
    "library(ggplot2)\n",
    "library(tidyverse)\n",
    "library(tidytext)\n",
    "library(tm)"
   ]
  },
  {
   "cell_type": "code",
   "execution_count": 8,
   "metadata": {},
   "outputs": [
    {
     "name": "stderr",
     "output_type": "stream",
     "text": [
      "Warning message in scan(file = file, what = what, sep = sep, quote = quote, dec = dec, :\n",
      "\"EOF within quoted string\""
     ]
    }
   ],
   "source": [
    "lyricsdata <- read.csv(\"lyrics.csv\")"
   ]
  },
  {
   "cell_type": "code",
   "execution_count": 9,
   "metadata": {},
   "outputs": [
    {
     "data": {
      "text/html": [
       "<table>\n",
       "<caption>A data.frame: 1 × 6</caption>\n",
       "<thead>\n",
       "\t<tr><th scope=col>index</th><th scope=col>song</th><th scope=col>year</th><th scope=col>artist</th><th scope=col>genre</th><th scope=col>lyrics</th></tr>\n",
       "\t<tr><th scope=col>&lt;int&gt;</th><th scope=col>&lt;fct&gt;</th><th scope=col>&lt;int&gt;</th><th scope=col>&lt;fct&gt;</th><th scope=col>&lt;fct&gt;</th><th scope=col>&lt;fct&gt;</th></tr>\n",
       "</thead>\n",
       "<tbody>\n",
       "\t<tr><td>0</td><td>ego-remix</td><td>2009</td><td>beyonce-knowles</td><td>Pop</td><td>Oh baby, how you doing?\n",
       "You know I'm gonna cut right to the chase\n",
       "Some women were made but me, myself\n",
       "I like to think that I was created for a special purpose\n",
       "You know, what's more special than you? You feel me\n",
       "It's on baby, let's get lost\n",
       "You don't need to call into work 'cause you're the boss\n",
       "For real, want you to show me how you feel\n",
       "I consider myself lucky, that's a big deal\n",
       "Why? Well, you got the key to my heart\n",
       "But you ain't gonna need it, I'd rather you open up my body\n",
       "And show me secrets, you didn't know was inside\n",
       "No need for me to lie\n",
       "It's too big, it's too wide\n",
       "It's too strong, it won't fit\n",
       "It's too much, it's too tough\n",
       "He talk like this 'cause he can back it up\n",
       "He got a big ego, such a huge ego\n",
       "I love his big ego, it's too much\n",
       "He walk like this 'cause he can back it up\n",
       "Usually I'm humble, right now I don't choose\n",
       "You can leave with me or you could have the blues\n",
       "Some call it arrogant, I call it confident\n",
       "You decide when you find on what I'm working with\n",
       "Damn I know I'm killing you with them legs\n",
       "Better yet them thighs\n",
       "Matter a fact it's my smile or maybe my eyes\n",
       "Boy you a site to see, kind of something like me\n",
       "It's too big, it's too wide\n",
       "It's too strong, it won't fit\n",
       "It's too much, it's too tough\n",
       "I talk like this 'cause I can back it up\n",
       "I got a big ego, such a huge ego\n",
       "But he love my big ego, it's too much\n",
       "I walk like this 'cause I can back it up\n",
       "I, I walk like this 'cause I can back it up\n",
       "I, I talk like this 'cause I can back it up\n",
       "I, I can back it up, I can back it up\n",
       "I walk like this 'cause I can back it up\n",
       "It's too big, it's too wide\n",
       "It's too strong, it won't fit\n",
       "It's too much, it's too tough\n",
       "He talk like this 'cause he can back it up\n",
       "He got a big ego, such a huge ego, such a huge ego\n",
       "I love his big ego, it's too much\n",
       "He walk like this 'cause he can back it up\n",
       "Ego so big, you must admit\n",
       "I got every reason to feel like I'm that bitch\n",
       "Ego so strong, if you ain't know\n",
       "I don't need no beat, I can sing it with piano</td></tr>\n",
       "</tbody>\n",
       "</table>\n"
      ],
      "text/latex": [
       "A data.frame: 1 × 6\n",
       "\\begin{tabular}{r|llllll}\n",
       " index & song & year & artist & genre & lyrics\\\\\n",
       " <int> & <fct> & <int> & <fct> & <fct> & <fct>\\\\\n",
       "\\hline\n",
       "\t 0 & ego-remix & 2009 & beyonce-knowles & Pop & Oh baby, how you doing?\n",
       "You know I'm gonna cut right to the chase\n",
       "Some women were made but me, myself\n",
       "I like to think that I was created for a special purpose\n",
       "You know, what's more special than you? You feel me\n",
       "It's on baby, let's get lost\n",
       "You don't need to call into work 'cause you're the boss\n",
       "For real, want you to show me how you feel\n",
       "I consider myself lucky, that's a big deal\n",
       "Why? Well, you got the key to my heart\n",
       "But you ain't gonna need it, I'd rather you open up my body\n",
       "And show me secrets, you didn't know was inside\n",
       "No need for me to lie\n",
       "It's too big, it's too wide\n",
       "It's too strong, it won't fit\n",
       "It's too much, it's too tough\n",
       "He talk like this 'cause he can back it up\n",
       "He got a big ego, such a huge ego\n",
       "I love his big ego, it's too much\n",
       "He walk like this 'cause he can back it up\n",
       "Usually I'm humble, right now I don't choose\n",
       "You can leave with me or you could have the blues\n",
       "Some call it arrogant, I call it confident\n",
       "You decide when you find on what I'm working with\n",
       "Damn I know I'm killing you with them legs\n",
       "Better yet them thighs\n",
       "Matter a fact it's my smile or maybe my eyes\n",
       "Boy you a site to see, kind of something like me\n",
       "It's too big, it's too wide\n",
       "It's too strong, it won't fit\n",
       "It's too much, it's too tough\n",
       "I talk like this 'cause I can back it up\n",
       "I got a big ego, such a huge ego\n",
       "But he love my big ego, it's too much\n",
       "I walk like this 'cause I can back it up\n",
       "I, I walk like this 'cause I can back it up\n",
       "I, I talk like this 'cause I can back it up\n",
       "I, I can back it up, I can back it up\n",
       "I walk like this 'cause I can back it up\n",
       "It's too big, it's too wide\n",
       "It's too strong, it won't fit\n",
       "It's too much, it's too tough\n",
       "He talk like this 'cause he can back it up\n",
       "He got a big ego, such a huge ego, such a huge ego\n",
       "I love his big ego, it's too much\n",
       "He walk like this 'cause he can back it up\n",
       "Ego so big, you must admit\n",
       "I got every reason to feel like I'm that bitch\n",
       "Ego so strong, if you ain't know\n",
       "I don't need no beat, I can sing it with piano\\\\\n",
       "\\end{tabular}\n"
      ],
      "text/markdown": [
       "\n",
       "A data.frame: 1 × 6\n",
       "\n",
       "| index &lt;int&gt; | song &lt;fct&gt; | year &lt;int&gt; | artist &lt;fct&gt; | genre &lt;fct&gt; | lyrics &lt;fct&gt; |\n",
       "|---|---|---|---|---|---|\n",
       "| 0 | ego-remix | 2009 | beyonce-knowles | Pop | Oh baby, how you doing?\n",
       "You know I'm gonna cut right to the chase\n",
       "Some women were made but me, myself\n",
       "I like to think that I was created for a special purpose\n",
       "You know, what's more special than you? You feel me\n",
       "It's on baby, let's get lost\n",
       "You don't need to call into work 'cause you're the boss\n",
       "For real, want you to show me how you feel\n",
       "I consider myself lucky, that's a big deal\n",
       "Why? Well, you got the key to my heart\n",
       "But you ain't gonna need it, I'd rather you open up my body\n",
       "And show me secrets, you didn't know was inside\n",
       "No need for me to lie\n",
       "It's too big, it's too wide\n",
       "It's too strong, it won't fit\n",
       "It's too much, it's too tough\n",
       "He talk like this 'cause he can back it up\n",
       "He got a big ego, such a huge ego\n",
       "I love his big ego, it's too much\n",
       "He walk like this 'cause he can back it up\n",
       "Usually I'm humble, right now I don't choose\n",
       "You can leave with me or you could have the blues\n",
       "Some call it arrogant, I call it confident\n",
       "You decide when you find on what I'm working with\n",
       "Damn I know I'm killing you with them legs\n",
       "Better yet them thighs\n",
       "Matter a fact it's my smile or maybe my eyes\n",
       "Boy you a site to see, kind of something like me\n",
       "It's too big, it's too wide\n",
       "It's too strong, it won't fit\n",
       "It's too much, it's too tough\n",
       "I talk like this 'cause I can back it up\n",
       "I got a big ego, such a huge ego\n",
       "But he love my big ego, it's too much\n",
       "I walk like this 'cause I can back it up\n",
       "I, I walk like this 'cause I can back it up\n",
       "I, I talk like this 'cause I can back it up\n",
       "I, I can back it up, I can back it up\n",
       "I walk like this 'cause I can back it up\n",
       "It's too big, it's too wide\n",
       "It's too strong, it won't fit\n",
       "It's too much, it's too tough\n",
       "He talk like this 'cause he can back it up\n",
       "He got a big ego, such a huge ego, such a huge ego\n",
       "I love his big ego, it's too much\n",
       "He walk like this 'cause he can back it up\n",
       "Ego so big, you must admit\n",
       "I got every reason to feel like I'm that bitch\n",
       "Ego so strong, if you ain't know\n",
       "I don't need no beat, I can sing it with piano |\n",
       "\n"
      ],
      "text/plain": [
       "  index song      year artist          genre\n",
       "1 0     ego-remix 2009 beyonce-knowles Pop  \n",
       "  lyrics                                                                                                                                                                                                                                                                                                                                                                                                                                                                                                                                                                                                                                                                                                                                                                                                                                                                                                                                                                                                                                                                                                                                                                                                                                                                                                                                                                                                                                                                                                                                                                                                                                                                                                                                                                                                                                                                                                                                                                                                                                                                                    \n",
       "1 Oh baby, how you doing?\\nYou know I'm gonna cut right to the chase\\nSome women were made but me, myself\\nI like to think that I was created for a special purpose\\nYou know, what's more special than you? You feel me\\nIt's on baby, let's get lost\\nYou don't need to call into work 'cause you're the boss\\nFor real, want you to show me how you feel\\nI consider myself lucky, that's a big deal\\nWhy? Well, you got the key to my heart\\nBut you ain't gonna need it, I'd rather you open up my body\\nAnd show me secrets, you didn't know was inside\\nNo need for me to lie\\nIt's too big, it's too wide\\nIt's too strong, it won't fit\\nIt's too much, it's too tough\\nHe talk like this 'cause he can back it up\\nHe got a big ego, such a huge ego\\nI love his big ego, it's too much\\nHe walk like this 'cause he can back it up\\nUsually I'm humble, right now I don't choose\\nYou can leave with me or you could have the blues\\nSome call it arrogant, I call it confident\\nYou decide when you find on what I'm working with\\nDamn I know I'm killing you with them legs\\nBetter yet them thighs\\nMatter a fact it's my smile or maybe my eyes\\nBoy you a site to see, kind of something like me\\nIt's too big, it's too wide\\nIt's too strong, it won't fit\\nIt's too much, it's too tough\\nI talk like this 'cause I can back it up\\nI got a big ego, such a huge ego\\nBut he love my big ego, it's too much\\nI walk like this 'cause I can back it up\\nI, I walk like this 'cause I can back it up\\nI, I talk like this 'cause I can back it up\\nI, I can back it up, I can back it up\\nI walk like this 'cause I can back it up\\nIt's too big, it's too wide\\nIt's too strong, it won't fit\\nIt's too much, it's too tough\\nHe talk like this 'cause he can back it up\\nHe got a big ego, such a huge ego, such a huge ego\\nI love his big ego, it's too much\\nHe walk like this 'cause he can back it up\\nEgo so big, you must admit\\nI got every reason to feel like I'm that bitch\\nEgo so strong, if you ain't know\\nI don't need no beat, I can sing it with piano"
      ]
     },
     "metadata": {},
     "output_type": "display_data"
    }
   ],
   "source": [
    "head(lyricsdata,1)"
   ]
  },
  {
   "cell_type": "code",
   "execution_count": 10,
   "metadata": {},
   "outputs": [
    {
     "data": {
      "text/html": [
       "<ol class=list-inline>\n",
       "\t<li>'baby how you doing you know gonna cut right the chase some women were made but myself like think that was created for special purpose you know what more special than you you feel baby let get lost you don need call into work cause you the boss for real want you show how you feel consider myself lucky that big deal why well you got the key heart but you ain gonna need rather you open body and show secrets you didn know was inside need for lie too big too wide too strong won fit too much too tough talk like this cause can back got big ego such huge ego love his big ego too much walk like this cause can back usually humble right now don choose you can leave with you could have the blues some call arrogant call confident you decide when you find what working with damn know killing you with them legs better yet them thighs matter fact smile maybe eyes boy you site see kind something like too big too wide too strong won fit too much too tough talk like this cause can back got big ego such huge ego but love big ego too much walk like this cause can back walk like this cause can back talk like this cause can back can back can back walk like this cause can back too big too wide too strong won fit too much too tough talk like this cause can back got big ego such huge ego such huge ego love his big ego too much walk like this cause can back ego big you must admit got every reason feel like that bitch ego strong you ain know don need beat can sing with piano'</li>\n",
       "\t<li>'playin everything easy like you seem sure still your ways you dont see not sure they for then things come right along our way though didn truly ask seems they gonna linger with every delight they bring just like what you have truly seemed trying think what you really want say even through darkest day you might want leave feeling strange about you like you gonna let know when words then slipped out you when words dont come easy say you just leave feeling come what may though want things coming from your way say you you bore all the time when you seem hold back all you all that you want let know why dont you have the courage speak and listen you truly want know then tell there something wrong with you and you seem fastened there sounds there melody things you are let out and then will feel alright when you sleep you feel the same exactly really want hear things from you though felt something new everse you acted that way would you still mind telling stay you seem let the days you truly want let know then tell'</li>\n",
       "\t<li>'you search for tenderness isn hard find you can have the love you need live but you look for truthfulness you might just well blind always seems hard give chorus honesty such lonely word everyone untrue honesty hardly ever heard and mostly what need from you can always find someone say they sympathize wear heart out sleeve but don want some pretty face tell pretty lies all want someone believe chorus can find lover can find friend can have security until the bitter end anyone can comfort with promises again know know when deep inside don too concerned won ask for nothin while gone but when want serity tell where else can turn when you the one that depend upon chorus'</li>\n",
       "\t<li>'[verse wrote book about where stand then the title book would life with superman that how you make feel count you privilege this love ideal honored know you feel the same see everyday all the things you all the things you say [chorus you are rock baby you the truth you are rock love rock with you you are rock you everything need you are rock baby rock with wanna kiss feel please just right wanna touch love baby all night reward for all the things you you are rock love rock with you love rock with you [verse were try count the ways you make smile run out fingers before run out timeless things talk about sugar you ke going make wanna keep lovin strong make wanna try best give you what you want and what you need give you whole heart not just little piece more than minimum talking everything more than single wish talking every dream [chorus you are rock baby you the truth you are rock love rock with you you are rock you everything need you are rock baby rock with wanna kiss feel please just right wanna touch love baby all night reward for all the things you you are rock love rock with you wanna rock with you [bridge there options don want them they not worth time cause not you thank you like just fine you rock the sand you smile cry you joy through the pain you the truth through the lies matter what know that can count you [chorus you are rock baby you the truth you are rock love rock with you you are rock you everything need you are rock baby rock with wanna kiss feel please just right wanna touch love baby all night reward for all the things you you are rock love rock with you love rock with you wanna kiss feel please just right wanna touch love baby all night reward for all the things you you are rock love rock with you wanna rock with you'</li>\n",
       "\t<li>'party the people the people the party popping sitting around see you looking you looking see you look what you started now let hook little one one come give some the that stuff let freshin with ruff let let hook when start won stop baby baby don stop come give some that stuff let black culture black culture black culture black culture party the people the people the party popping sitting around see you looking you looking see you look what you started now let hook come one give some the that stuff let freshin little one one with ruff let let hook when start won stop baby baby don stop come give some that stuff let you are black culture you are black culture you are black culture you are black culture let hook come give some the that stuff let freshin little one one with ruff let let hook when start won stop baby baby don stop come give some that stuff let let hook come give some the that stuff let freshin little one one with ruff let let hook when start won stop baby baby don stop come give some that stuff let are black culture are black culture are black culture are black culture are black culture are black culture are black culture are black culture'</li>\n",
       "\t<li>'heard church bells ringing heard choir singing saw love walk down the aisle her finger placed ring oooh saw them holding hands she was standing there wwith man heard them promise til death part each word was pain heart all could all could was cry all could was cry was losing the man that love and all could was cry and now the wedding over the rice rice has been thrown over their heads for them life has just begun but mine ending ooh all could all could was cry all could was cry was losing the man that love and all could was cry'</li>\n",
       "</ol>\n"
      ],
      "text/latex": [
       "\\begin{enumerate*}\n",
       "\\item 'baby how you doing you know gonna cut right the chase some women were made but myself like think that was created for special purpose you know what more special than you you feel baby let get lost you don need call into work cause you the boss for real want you show how you feel consider myself lucky that big deal why well you got the key heart but you ain gonna need rather you open body and show secrets you didn know was inside need for lie too big too wide too strong won fit too much too tough talk like this cause can back got big ego such huge ego love his big ego too much walk like this cause can back usually humble right now don choose you can leave with you could have the blues some call arrogant call confident you decide when you find what working with damn know killing you with them legs better yet them thighs matter fact smile maybe eyes boy you site see kind something like too big too wide too strong won fit too much too tough talk like this cause can back got big ego such huge ego but love big ego too much walk like this cause can back walk like this cause can back talk like this cause can back can back can back walk like this cause can back too big too wide too strong won fit too much too tough talk like this cause can back got big ego such huge ego such huge ego love his big ego too much walk like this cause can back ego big you must admit got every reason feel like that bitch ego strong you ain know don need beat can sing with piano'\n",
       "\\item 'playin everything easy like you seem sure still your ways you dont see not sure they for then things come right along our way though didn truly ask seems they gonna linger with every delight they bring just like what you have truly seemed trying think what you really want say even through darkest day you might want leave feeling strange about you like you gonna let know when words then slipped out you when words dont come easy say you just leave feeling come what may though want things coming from your way say you you bore all the time when you seem hold back all you all that you want let know why dont you have the courage speak and listen you truly want know then tell there something wrong with you and you seem fastened there sounds there melody things you are let out and then will feel alright when you sleep you feel the same exactly really want hear things from you though felt something new everse you acted that way would you still mind telling stay you seem let the days you truly want let know then tell'\n",
       "\\item 'you search for tenderness isn hard find you can have the love you need live but you look for truthfulness you might just well blind always seems hard give chorus honesty such lonely word everyone untrue honesty hardly ever heard and mostly what need from you can always find someone say they sympathize wear heart out sleeve but don want some pretty face tell pretty lies all want someone believe chorus can find lover can find friend can have security until the bitter end anyone can comfort with promises again know know when deep inside don too concerned won ask for nothin while gone but when want serity tell where else can turn when you the one that depend upon chorus'\n",
       "\\item '{[}verse wrote book about where stand then the title book would life with superman that how you make feel count you privilege this love ideal honored know you feel the same see everyday all the things you all the things you say {[}chorus you are rock baby you the truth you are rock love rock with you you are rock you everything need you are rock baby rock with wanna kiss feel please just right wanna touch love baby all night reward for all the things you you are rock love rock with you love rock with you {[}verse were try count the ways you make smile run out fingers before run out timeless things talk about sugar you ke going make wanna keep lovin strong make wanna try best give you what you want and what you need give you whole heart not just little piece more than minimum talking everything more than single wish talking every dream {[}chorus you are rock baby you the truth you are rock love rock with you you are rock you everything need you are rock baby rock with wanna kiss feel please just right wanna touch love baby all night reward for all the things you you are rock love rock with you wanna rock with you {[}bridge there options don want them they not worth time cause not you thank you like just fine you rock the sand you smile cry you joy through the pain you the truth through the lies matter what know that can count you {[}chorus you are rock baby you the truth you are rock love rock with you you are rock you everything need you are rock baby rock with wanna kiss feel please just right wanna touch love baby all night reward for all the things you you are rock love rock with you love rock with you wanna kiss feel please just right wanna touch love baby all night reward for all the things you you are rock love rock with you wanna rock with you'\n",
       "\\item 'party the people the people the party popping sitting around see you looking you looking see you look what you started now let hook little one one come give some the that stuff let freshin with ruff let let hook when start won stop baby baby don stop come give some that stuff let black culture black culture black culture black culture party the people the people the party popping sitting around see you looking you looking see you look what you started now let hook come one give some the that stuff let freshin little one one with ruff let let hook when start won stop baby baby don stop come give some that stuff let you are black culture you are black culture you are black culture you are black culture let hook come give some the that stuff let freshin little one one with ruff let let hook when start won stop baby baby don stop come give some that stuff let let hook come give some the that stuff let freshin little one one with ruff let let hook when start won stop baby baby don stop come give some that stuff let are black culture are black culture are black culture are black culture are black culture are black culture are black culture are black culture'\n",
       "\\item 'heard church bells ringing heard choir singing saw love walk down the aisle her finger placed ring oooh saw them holding hands she was standing there wwith man heard them promise til death part each word was pain heart all could all could was cry all could was cry was losing the man that love and all could was cry and now the wedding over the rice rice has been thrown over their heads for them life has just begun but mine ending ooh all could all could was cry all could was cry was losing the man that love and all could was cry'\n",
       "\\end{enumerate*}\n"
      ],
      "text/markdown": [
       "1. 'baby how you doing you know gonna cut right the chase some women were made but myself like think that was created for special purpose you know what more special than you you feel baby let get lost you don need call into work cause you the boss for real want you show how you feel consider myself lucky that big deal why well you got the key heart but you ain gonna need rather you open body and show secrets you didn know was inside need for lie too big too wide too strong won fit too much too tough talk like this cause can back got big ego such huge ego love his big ego too much walk like this cause can back usually humble right now don choose you can leave with you could have the blues some call arrogant call confident you decide when you find what working with damn know killing you with them legs better yet them thighs matter fact smile maybe eyes boy you site see kind something like too big too wide too strong won fit too much too tough talk like this cause can back got big ego such huge ego but love big ego too much walk like this cause can back walk like this cause can back talk like this cause can back can back can back walk like this cause can back too big too wide too strong won fit too much too tough talk like this cause can back got big ego such huge ego such huge ego love his big ego too much walk like this cause can back ego big you must admit got every reason feel like that bitch ego strong you ain know don need beat can sing with piano'\n",
       "2. 'playin everything easy like you seem sure still your ways you dont see not sure they for then things come right along our way though didn truly ask seems they gonna linger with every delight they bring just like what you have truly seemed trying think what you really want say even through darkest day you might want leave feeling strange about you like you gonna let know when words then slipped out you when words dont come easy say you just leave feeling come what may though want things coming from your way say you you bore all the time when you seem hold back all you all that you want let know why dont you have the courage speak and listen you truly want know then tell there something wrong with you and you seem fastened there sounds there melody things you are let out and then will feel alright when you sleep you feel the same exactly really want hear things from you though felt something new everse you acted that way would you still mind telling stay you seem let the days you truly want let know then tell'\n",
       "3. 'you search for tenderness isn hard find you can have the love you need live but you look for truthfulness you might just well blind always seems hard give chorus honesty such lonely word everyone untrue honesty hardly ever heard and mostly what need from you can always find someone say they sympathize wear heart out sleeve but don want some pretty face tell pretty lies all want someone believe chorus can find lover can find friend can have security until the bitter end anyone can comfort with promises again know know when deep inside don too concerned won ask for nothin while gone but when want serity tell where else can turn when you the one that depend upon chorus'\n",
       "4. '[verse wrote book about where stand then the title book would life with superman that how you make feel count you privilege this love ideal honored know you feel the same see everyday all the things you all the things you say [chorus you are rock baby you the truth you are rock love rock with you you are rock you everything need you are rock baby rock with wanna kiss feel please just right wanna touch love baby all night reward for all the things you you are rock love rock with you love rock with you [verse were try count the ways you make smile run out fingers before run out timeless things talk about sugar you ke going make wanna keep lovin strong make wanna try best give you what you want and what you need give you whole heart not just little piece more than minimum talking everything more than single wish talking every dream [chorus you are rock baby you the truth you are rock love rock with you you are rock you everything need you are rock baby rock with wanna kiss feel please just right wanna touch love baby all night reward for all the things you you are rock love rock with you wanna rock with you [bridge there options don want them they not worth time cause not you thank you like just fine you rock the sand you smile cry you joy through the pain you the truth through the lies matter what know that can count you [chorus you are rock baby you the truth you are rock love rock with you you are rock you everything need you are rock baby rock with wanna kiss feel please just right wanna touch love baby all night reward for all the things you you are rock love rock with you love rock with you wanna kiss feel please just right wanna touch love baby all night reward for all the things you you are rock love rock with you wanna rock with you'\n",
       "5. 'party the people the people the party popping sitting around see you looking you looking see you look what you started now let hook little one one come give some the that stuff let freshin with ruff let let hook when start won stop baby baby don stop come give some that stuff let black culture black culture black culture black culture party the people the people the party popping sitting around see you looking you looking see you look what you started now let hook come one give some the that stuff let freshin little one one with ruff let let hook when start won stop baby baby don stop come give some that stuff let you are black culture you are black culture you are black culture you are black culture let hook come give some the that stuff let freshin little one one with ruff let let hook when start won stop baby baby don stop come give some that stuff let let hook come give some the that stuff let freshin little one one with ruff let let hook when start won stop baby baby don stop come give some that stuff let are black culture are black culture are black culture are black culture are black culture are black culture are black culture are black culture'\n",
       "6. 'heard church bells ringing heard choir singing saw love walk down the aisle her finger placed ring oooh saw them holding hands she was standing there wwith man heard them promise til death part each word was pain heart all could all could was cry all could was cry was losing the man that love and all could was cry and now the wedding over the rice rice has been thrown over their heads for them life has just begun but mine ending ooh all could all could was cry all could was cry was losing the man that love and all could was cry'\n",
       "\n",
       "\n"
      ],
      "text/plain": [
       "[1] \"baby how you doing you know gonna cut right the chase some women were made but myself like think that was created for special purpose you know what more special than you you feel baby let get lost you don need call into work cause you the boss for real want you show how you feel consider myself lucky that big deal why well you got the key heart but you ain gonna need rather you open body and show secrets you didn know was inside need for lie too big too wide too strong won fit too much too tough talk like this cause can back got big ego such huge ego love his big ego too much walk like this cause can back usually humble right now don choose you can leave with you could have the blues some call arrogant call confident you decide when you find what working with damn know killing you with them legs better yet them thighs matter fact smile maybe eyes boy you site see kind something like too big too wide too strong won fit too much too tough talk like this cause can back got big ego such huge ego but love big ego too much walk like this cause can back walk like this cause can back talk like this cause can back can back can back walk like this cause can back too big too wide too strong won fit too much too tough talk like this cause can back got big ego such huge ego such huge ego love his big ego too much walk like this cause can back ego big you must admit got every reason feel like that bitch ego strong you ain know don need beat can sing with piano\"                                                                                                                                                                                                                                                                                                          \n",
       "[2] \"playin everything easy like you seem sure still your ways you dont see not sure they for then things come right along our way though didn truly ask seems they gonna linger with every delight they bring just like what you have truly seemed trying think what you really want say even through darkest day you might want leave feeling strange about you like you gonna let know when words then slipped out you when words dont come easy say you just leave feeling come what may though want things coming from your way say you you bore all the time when you seem hold back all you all that you want let know why dont you have the courage speak and listen you truly want know then tell there something wrong with you and you seem fastened there sounds there melody things you are let out and then will feel alright when you sleep you feel the same exactly really want hear things from you though felt something new everse you acted that way would you still mind telling stay you seem let the days you truly want let know then tell\"                                                                                                                                                                                                                                                                                                                                                                                                                                                                                                                                                                                                                                                                                                                                                                          \n",
       "[3] \"you search for tenderness isn hard find you can have the love you need live but you look for truthfulness you might just well blind always seems hard give chorus honesty such lonely word everyone untrue honesty hardly ever heard and mostly what need from you can always find someone say they sympathize wear heart out sleeve but don want some pretty face tell pretty lies all want someone believe chorus can find lover can find friend can have security until the bitter end anyone can comfort with promises again know know when deep inside don too concerned won ask for nothin while gone but when want serity tell where else can turn when you the one that depend upon chorus\"                                                                                                                                                                                                                                                                                                                                                                                                                                                                                                                                                                                                                                                                                                                                                                                                                                                                                                                                                                                                                                                                                                                                      \n",
       "[4] \"[verse wrote book about where stand then the title book would life with superman that how you make feel count you privilege this love ideal honored know you feel the same see everyday all the things you all the things you say [chorus you are rock baby you the truth you are rock love rock with you you are rock you everything need you are rock baby rock with wanna kiss feel please just right wanna touch love baby all night reward for all the things you you are rock love rock with you love rock with you [verse were try count the ways you make smile run out fingers before run out timeless things talk about sugar you ke going make wanna keep lovin strong make wanna try best give you what you want and what you need give you whole heart not just little piece more than minimum talking everything more than single wish talking every dream [chorus you are rock baby you the truth you are rock love rock with you you are rock you everything need you are rock baby rock with wanna kiss feel please just right wanna touch love baby all night reward for all the things you you are rock love rock with you wanna rock with you [bridge there options don want them they not worth time cause not you thank you like just fine you rock the sand you smile cry you joy through the pain you the truth through the lies matter what know that can count you [chorus you are rock baby you the truth you are rock love rock with you you are rock you everything need you are rock baby rock with wanna kiss feel please just right wanna touch love baby all night reward for all the things you you are rock love rock with you love rock with you wanna kiss feel please just right wanna touch love baby all night reward for all the things you you are rock love rock with you wanna rock with you\"\n",
       "[5] \"party the people the people the party popping sitting around see you looking you looking see you look what you started now let hook little one one come give some the that stuff let freshin with ruff let let hook when start won stop baby baby don stop come give some that stuff let black culture black culture black culture black culture party the people the people the party popping sitting around see you looking you looking see you look what you started now let hook come one give some the that stuff let freshin little one one with ruff let let hook when start won stop baby baby don stop come give some that stuff let you are black culture you are black culture you are black culture you are black culture let hook come give some the that stuff let freshin little one one with ruff let let hook when start won stop baby baby don stop come give some that stuff let let hook come give some the that stuff let freshin little one one with ruff let let hook when start won stop baby baby don stop come give some that stuff let are black culture are black culture are black culture are black culture are black culture are black culture are black culture are black culture\"                                                                                                                                                                                                                                                                                                                                                                                                                                                                                                                                                                                                                       \n",
       "[6] \"heard church bells ringing heard choir singing saw love walk down the aisle her finger placed ring oooh saw them holding hands she was standing there wwith man heard them promise til death part each word was pain heart all could all could was cry all could was cry was losing the man that love and all could was cry and now the wedding over the rice rice has been thrown over their heads for them life has just begun but mine ending ooh all could all could was cry all could was cry was losing the man that love and all could was cry\"                                                                                                                                                                                                                                                                                                                                                                                                                                                                                                                                                                                                                                                                                                                                                                                                                                                                                                                                                                                                                                                                                                                                                                                                                                                                                   "
      ]
     },
     "metadata": {},
     "output_type": "display_data"
    }
   ],
   "source": [
    "lyricsdata <- (lyricsdata$lyrics)\n",
    "lyricsdata <- tolower(lyricsdata)\n",
    "lyricsdata <- gsub(\"[^[A-Za-z]\",\" \", lyricsdata)\n",
    "lyricsdata <- gsub(\"\\\\b\\\\w{1,2}\\\\b\", \"\", lyricsdata)\n",
    "lyricsdata <- gsub(\"https\",\"\", lyricsdata)\n",
    "lyricsdata <- gsub(\"inc\",\"\", lyricsdata)\n",
    "lyricsdata <- gsub(\"amp\",\"\", lyricsdata)\n",
    "lyricsdata <- gsub(\"stock\",\"\", lyricsdata)\n",
    "lyricsdata <- gsub(\"eps\",\"\", lyricsdata)\n",
    "\n",
    "lyricsdata <- str_squish(lyricsdata)\n",
    "head(lyricsdata)"
   ]
  },
  {
   "cell_type": "code",
   "execution_count": 11,
   "metadata": {},
   "outputs": [
    {
     "data": {
      "text/html": [
       "<table>\n",
       "<caption>A tibble: 6 × 2</caption>\n",
       "<thead>\n",
       "\t<tr><th scope=col>word</th><th scope=col>lexicon</th></tr>\n",
       "\t<tr><th scope=col>&lt;chr&gt;</th><th scope=col>&lt;chr&gt;</th></tr>\n",
       "</thead>\n",
       "<tbody>\n",
       "\t<tr><td>a        </td><td>SMART</td></tr>\n",
       "\t<tr><td>a's      </td><td>SMART</td></tr>\n",
       "\t<tr><td>able     </td><td>SMART</td></tr>\n",
       "\t<tr><td>about    </td><td>SMART</td></tr>\n",
       "\t<tr><td>above    </td><td>SMART</td></tr>\n",
       "\t<tr><td>according</td><td>SMART</td></tr>\n",
       "</tbody>\n",
       "</table>\n"
      ],
      "text/latex": [
       "A tibble: 6 × 2\n",
       "\\begin{tabular}{r|ll}\n",
       " word & lexicon\\\\\n",
       " <chr> & <chr>\\\\\n",
       "\\hline\n",
       "\t a         & SMART\\\\\n",
       "\t a's       & SMART\\\\\n",
       "\t able      & SMART\\\\\n",
       "\t about     & SMART\\\\\n",
       "\t above     & SMART\\\\\n",
       "\t according & SMART\\\\\n",
       "\\end{tabular}\n"
      ],
      "text/markdown": [
       "\n",
       "A tibble: 6 × 2\n",
       "\n",
       "| word &lt;chr&gt; | lexicon &lt;chr&gt; |\n",
       "|---|---|\n",
       "| a         | SMART |\n",
       "| a's       | SMART |\n",
       "| able      | SMART |\n",
       "| about     | SMART |\n",
       "| above     | SMART |\n",
       "| according | SMART |\n",
       "\n"
      ],
      "text/plain": [
       "  word      lexicon\n",
       "1 a         SMART  \n",
       "2 a's       SMART  \n",
       "3 able      SMART  \n",
       "4 about     SMART  \n",
       "5 above     SMART  \n",
       "6 according SMART  "
      ]
     },
     "metadata": {},
     "output_type": "display_data"
    },
    {
     "data": {
      "text/html": [
       "<ol class=list-inline>\n",
       "\t<li>572</li>\n",
       "\t<li>573</li>\n",
       "\t<li>574</li>\n",
       "\t<li>575</li>\n",
       "\t<li>576</li>\n",
       "\t<li>577</li>\n",
       "\t<li>578</li>\n",
       "\t<li>579</li>\n",
       "\t<li>580</li>\n",
       "\t<li>581</li>\n",
       "</ol>\n"
      ],
      "text/latex": [
       "\\begin{enumerate*}\n",
       "\\item 572\n",
       "\\item 573\n",
       "\\item 574\n",
       "\\item 575\n",
       "\\item 576\n",
       "\\item 577\n",
       "\\item 578\n",
       "\\item 579\n",
       "\\item 580\n",
       "\\item 581\n",
       "\\end{enumerate*}\n"
      ],
      "text/markdown": [
       "1. 572\n",
       "2. 573\n",
       "3. 574\n",
       "4. 575\n",
       "5. 576\n",
       "6. 577\n",
       "7. 578\n",
       "8. 579\n",
       "9. 580\n",
       "10. 581\n",
       "\n",
       "\n"
      ],
      "text/plain": [
       " [1] 572 573 574 575 576 577 578 579 580 581"
      ]
     },
     "metadata": {},
     "output_type": "display_data"
    },
    {
     "data": {
      "text/html": [
       "'c(\"i\", \"me\", \"my\", \"myself\", \"we\", \"our\", \"ours\", \"ourselves\", \"you\", \"your\", \"yours\", \"yourself\", \"yourselves\", \"he\", \"him\", \"his\", \"himself\", \"she\", \"her\", \"hers\", \"herself\", \"it\", \"its\", \"itself\", \"they\", \"them\", \"their\", \"theirs\", \"themselves\", \"what\", \"which\", \"who\", \"whom\", \"this\", \"that\", \"these\", \"those\", \"am\", \"is\", \"are\", \"was\", \"were\", \"be\", \"been\", \"being\", \"have\", \"has\", \"had\", \"having\", \"do\", \"does\", \"did\", \"doing\", \"would\", \"should\", \"could\", \"ought\", \"i\\'m\", \"you\\'re\", \"he\\'s\", \"she\\'s\", \\n\"it\\'s\", \"we\\'re\", \"they\\'re\", \"i\\'ve\", \"you\\'ve\", \"we\\'ve\", \"they\\'ve\", \"i\\'d\", \"you\\'d\", \"he\\'d\", \"she\\'d\", \"we\\'d\", \"they\\'d\", \"i\\'ll\", \"you\\'ll\", \"he\\'ll\", \"she\\'ll\", \"we\\'ll\", \"they\\'ll\", \"isn\\'t\", \"aren\\'t\", \"wasn\\'t\", \"weren\\'t\", \"hasn\\'t\", \"haven\\'t\", \"hadn\\'t\", \"doesn\\'t\", \"don\\'t\", \"didn\\'t\", \"won\\'t\", \"wouldn\\'t\", \"shan\\'t\", \"shouldn\\'t\", \"can\\'t\", \"cannot\", \"couldn\\'t\", \"mustn\\'t\", \"let\\'s\", \"that\\'s\", \"who\\'s\", \"what\\'s\", \"here\\'s\", \"there\\'s\", \"when\\'s\", \"where\\'s\", \"why\\'s\", \"how\\'s\", \"a\", \"an\", \"the\", \"and\", \"but\", \"if\", \"or\", \\n\"because\", \"as\", \"until\", \"while\", \"of\", \"at\", \"by\", \"for\", \"with\", \"about\", \"against\", \"between\", \"into\", \"through\", \"during\", \"before\", \"after\", \"above\", \"below\", \"to\", \"from\", \"up\", \"down\", \"in\", \"out\", \"on\", \"off\", \"over\", \"under\", \"again\", \"further\", \"then\", \"once\", \"here\", \"there\", \"when\", \"where\", \"why\", \"how\", \"all\", \"any\", \"both\", \"each\", \"few\", \"more\", \"most\", \"other\", \"some\", \"such\", \"no\", \"nor\", \"not\", \"only\", \"own\", \"same\", \"so\", \"than\", \"too\", \"very\")'"
      ],
      "text/latex": [
       "'c(\"i\", \"me\", \"my\", \"myself\", \"we\", \"our\", \"ours\", \"ourselves\", \"you\", \"your\", \"yours\", \"yourself\", \"yourselves\", \"he\", \"him\", \"his\", \"himself\", \"she\", \"her\", \"hers\", \"herself\", \"it\", \"its\", \"itself\", \"they\", \"them\", \"their\", \"theirs\", \"themselves\", \"what\", \"which\", \"who\", \"whom\", \"this\", \"that\", \"these\", \"those\", \"am\", \"is\", \"are\", \"was\", \"were\", \"be\", \"been\", \"being\", \"have\", \"has\", \"had\", \"having\", \"do\", \"does\", \"did\", \"doing\", \"would\", \"should\", \"could\", \"ought\", \"i\\textbackslash{}'m\", \"you\\textbackslash{}'re\", \"he\\textbackslash{}'s\", \"she\\textbackslash{}'s\", \\textbackslash{}n\"it\\textbackslash{}'s\", \"we\\textbackslash{}'re\", \"they\\textbackslash{}'re\", \"i\\textbackslash{}'ve\", \"you\\textbackslash{}'ve\", \"we\\textbackslash{}'ve\", \"they\\textbackslash{}'ve\", \"i\\textbackslash{}'d\", \"you\\textbackslash{}'d\", \"he\\textbackslash{}'d\", \"she\\textbackslash{}'d\", \"we\\textbackslash{}'d\", \"they\\textbackslash{}'d\", \"i\\textbackslash{}'ll\", \"you\\textbackslash{}'ll\", \"he\\textbackslash{}'ll\", \"she\\textbackslash{}'ll\", \"we\\textbackslash{}'ll\", \"they\\textbackslash{}'ll\", \"isn\\textbackslash{}'t\", \"aren\\textbackslash{}'t\", \"wasn\\textbackslash{}'t\", \"weren\\textbackslash{}'t\", \"hasn\\textbackslash{}'t\", \"haven\\textbackslash{}'t\", \"hadn\\textbackslash{}'t\", \"doesn\\textbackslash{}'t\", \"don\\textbackslash{}'t\", \"didn\\textbackslash{}'t\", \"won\\textbackslash{}'t\", \"wouldn\\textbackslash{}'t\", \"shan\\textbackslash{}'t\", \"shouldn\\textbackslash{}'t\", \"can\\textbackslash{}'t\", \"cannot\", \"couldn\\textbackslash{}'t\", \"mustn\\textbackslash{}'t\", \"let\\textbackslash{}'s\", \"that\\textbackslash{}'s\", \"who\\textbackslash{}'s\", \"what\\textbackslash{}'s\", \"here\\textbackslash{}'s\", \"there\\textbackslash{}'s\", \"when\\textbackslash{}'s\", \"where\\textbackslash{}'s\", \"why\\textbackslash{}'s\", \"how\\textbackslash{}'s\", \"a\", \"an\", \"the\", \"and\", \"but\", \"if\", \"or\", \\textbackslash{}n\"because\", \"as\", \"until\", \"while\", \"of\", \"at\", \"by\", \"for\", \"with\", \"about\", \"against\", \"between\", \"into\", \"through\", \"during\", \"before\", \"after\", \"above\", \"below\", \"to\", \"from\", \"up\", \"down\", \"in\", \"out\", \"on\", \"off\", \"over\", \"under\", \"again\", \"further\", \"then\", \"once\", \"here\", \"there\", \"when\", \"where\", \"why\", \"how\", \"all\", \"any\", \"both\", \"each\", \"few\", \"more\", \"most\", \"other\", \"some\", \"such\", \"no\", \"nor\", \"not\", \"only\", \"own\", \"same\", \"so\", \"than\", \"too\", \"very\")'"
      ],
      "text/markdown": [
       "'c(\"i\", \"me\", \"my\", \"myself\", \"we\", \"our\", \"ours\", \"ourselves\", \"you\", \"your\", \"yours\", \"yourself\", \"yourselves\", \"he\", \"him\", \"his\", \"himself\", \"she\", \"her\", \"hers\", \"herself\", \"it\", \"its\", \"itself\", \"they\", \"them\", \"their\", \"theirs\", \"themselves\", \"what\", \"which\", \"who\", \"whom\", \"this\", \"that\", \"these\", \"those\", \"am\", \"is\", \"are\", \"was\", \"were\", \"be\", \"been\", \"being\", \"have\", \"has\", \"had\", \"having\", \"do\", \"does\", \"did\", \"doing\", \"would\", \"should\", \"could\", \"ought\", \"i\\'m\", \"you\\'re\", \"he\\'s\", \"she\\'s\", \\n\"it\\'s\", \"we\\'re\", \"they\\'re\", \"i\\'ve\", \"you\\'ve\", \"we\\'ve\", \"they\\'ve\", \"i\\'d\", \"you\\'d\", \"he\\'d\", \"she\\'d\", \"we\\'d\", \"they\\'d\", \"i\\'ll\", \"you\\'ll\", \"he\\'ll\", \"she\\'ll\", \"we\\'ll\", \"they\\'ll\", \"isn\\'t\", \"aren\\'t\", \"wasn\\'t\", \"weren\\'t\", \"hasn\\'t\", \"haven\\'t\", \"hadn\\'t\", \"doesn\\'t\", \"don\\'t\", \"didn\\'t\", \"won\\'t\", \"wouldn\\'t\", \"shan\\'t\", \"shouldn\\'t\", \"can\\'t\", \"cannot\", \"couldn\\'t\", \"mustn\\'t\", \"let\\'s\", \"that\\'s\", \"who\\'s\", \"what\\'s\", \"here\\'s\", \"there\\'s\", \"when\\'s\", \"where\\'s\", \"why\\'s\", \"how\\'s\", \"a\", \"an\", \"the\", \"and\", \"but\", \"if\", \"or\", \\n\"because\", \"as\", \"until\", \"while\", \"of\", \"at\", \"by\", \"for\", \"with\", \"about\", \"against\", \"between\", \"into\", \"through\", \"during\", \"before\", \"after\", \"above\", \"below\", \"to\", \"from\", \"up\", \"down\", \"in\", \"out\", \"on\", \"off\", \"over\", \"under\", \"again\", \"further\", \"then\", \"once\", \"here\", \"there\", \"when\", \"where\", \"why\", \"how\", \"all\", \"any\", \"both\", \"each\", \"few\", \"more\", \"most\", \"other\", \"some\", \"such\", \"no\", \"nor\", \"not\", \"only\", \"own\", \"same\", \"so\", \"than\", \"too\", \"very\")'"
      ],
      "text/plain": [
       "[1] \"c(\\\"i\\\", \\\"me\\\", \\\"my\\\", \\\"myself\\\", \\\"we\\\", \\\"our\\\", \\\"ours\\\", \\\"ourselves\\\", \\\"you\\\", \\\"your\\\", \\\"yours\\\", \\\"yourself\\\", \\\"yourselves\\\", \\\"he\\\", \\\"him\\\", \\\"his\\\", \\\"himself\\\", \\\"she\\\", \\\"her\\\", \\\"hers\\\", \\\"herself\\\", \\\"it\\\", \\\"its\\\", \\\"itself\\\", \\\"they\\\", \\\"them\\\", \\\"their\\\", \\\"theirs\\\", \\\"themselves\\\", \\\"what\\\", \\\"which\\\", \\\"who\\\", \\\"whom\\\", \\\"this\\\", \\\"that\\\", \\\"these\\\", \\\"those\\\", \\\"am\\\", \\\"is\\\", \\\"are\\\", \\\"was\\\", \\\"were\\\", \\\"be\\\", \\\"been\\\", \\\"being\\\", \\\"have\\\", \\\"has\\\", \\\"had\\\", \\\"having\\\", \\\"do\\\", \\\"does\\\", \\\"did\\\", \\\"doing\\\", \\\"would\\\", \\\"should\\\", \\\"could\\\", \\\"ought\\\", \\\"i'm\\\", \\\"you're\\\", \\\"he's\\\", \\\"she's\\\", \\n\\\"it's\\\", \\\"we're\\\", \\\"they're\\\", \\\"i've\\\", \\\"you've\\\", \\\"we've\\\", \\\"they've\\\", \\\"i'd\\\", \\\"you'd\\\", \\\"he'd\\\", \\\"she'd\\\", \\\"we'd\\\", \\\"they'd\\\", \\\"i'll\\\", \\\"you'll\\\", \\\"he'll\\\", \\\"she'll\\\", \\\"we'll\\\", \\\"they'll\\\", \\\"isn't\\\", \\\"aren't\\\", \\\"wasn't\\\", \\\"weren't\\\", \\\"hasn't\\\", \\\"haven't\\\", \\\"hadn't\\\", \\\"doesn't\\\", \\\"don't\\\", \\\"didn't\\\", \\\"won't\\\", \\\"wouldn't\\\", \\\"shan't\\\", \\\"shouldn't\\\", \\\"can't\\\", \\\"cannot\\\", \\\"couldn't\\\", \\\"mustn't\\\", \\\"let's\\\", \\\"that's\\\", \\\"who's\\\", \\\"what's\\\", \\\"here's\\\", \\\"there's\\\", \\\"when's\\\", \\\"where's\\\", \\\"why's\\\", \\\"how's\\\", \\\"a\\\", \\\"an\\\", \\\"the\\\", \\\"and\\\", \\\"but\\\", \\\"if\\\", \\\"or\\\", \\n\\\"because\\\", \\\"as\\\", \\\"until\\\", \\\"while\\\", \\\"of\\\", \\\"at\\\", \\\"by\\\", \\\"for\\\", \\\"with\\\", \\\"about\\\", \\\"against\\\", \\\"between\\\", \\\"into\\\", \\\"through\\\", \\\"during\\\", \\\"before\\\", \\\"after\\\", \\\"above\\\", \\\"below\\\", \\\"to\\\", \\\"from\\\", \\\"up\\\", \\\"down\\\", \\\"in\\\", \\\"out\\\", \\\"on\\\", \\\"off\\\", \\\"over\\\", \\\"under\\\", \\\"again\\\", \\\"further\\\", \\\"then\\\", \\\"once\\\", \\\"here\\\", \\\"there\\\", \\\"when\\\", \\\"where\\\", \\\"why\\\", \\\"how\\\", \\\"all\\\", \\\"any\\\", \\\"both\\\", \\\"each\\\", \\\"few\\\", \\\"more\\\", \\\"most\\\", \\\"other\\\", \\\"some\\\", \\\"such\\\", \\\"no\\\", \\\"nor\\\", \\\"not\\\", \\\"only\\\", \\\"own\\\", \\\"same\\\", \\\"so\\\", \\\"than\\\", \\\"too\\\", \\\"very\\\")\""
      ]
     },
     "metadata": {},
     "output_type": "display_data"
    }
   ],
   "source": [
    "data(\"stop_words\")\n",
    "head(stop_words)\n",
    "which(stop_words$lexicon == 'snowball')[1:10]\n",
    "stop_words_for_removal <- as.vector((stop_words %>% filter(lexicon==\"snowball\"))[1])\n",
    "as.character(stop_words_for_removal)\n"
   ]
  },
  {
   "cell_type": "code",
   "execution_count": 12,
   "metadata": {},
   "outputs": [
    {
     "name": "stdout",
     "output_type": "stream",
     "text": [
      "<<PlainTextDocument>>\n",
      "Metadata:  7\n",
      "Content:  chars: 846\n",
      "\n",
      "now honey better sit look around cause must bumped head love enough talk sense back baby hate see come home kids dog gone check credentials give everything want everything need even friends say good woman need know don love tell baby don love make damn easy love don need tell baby don need make damn easy need got beauty got class got style got ass don even care care looka even put money bank account don ask one help don even notice don love tell baby don love make damn easy love don need tell baby don need make damn easy need got beauty got heart keep head books sharp don care know smart got moves bedroom keep happy nasty things don seem tune ooh don love tell baby don love make damn easy love don need tell baby don need make damn easy need nothing love nothing love lovely nothing need nothing need maybe just one maybe just plain dumb\n"
     ]
    }
   ],
   "source": [
    "lyricsdata_tm <- VCorpus(VectorSource(lyricsdata))\n",
    "lyricsdata_tm <- tm_map(lyricsdata_tm,removeWords,stop_words_for_removal$word)\n",
    "lyricsdata_tm <- tm_map(lyricsdata_tm,stripWhitespace)\n",
    "lyricsdata_tm <- tm_map(lyricsdata_tm,removePunctuation)\n",
    "inspect(lyricsdata_tm[[10]])"
   ]
  },
  {
   "cell_type": "code",
   "execution_count": null,
   "metadata": {},
   "outputs": [],
   "source": [
    "NGramTokenizer <- function(x) {\n",
    "  unlist(lapply(ngrams(words(x), GRAMS), paste, collapse = \" \"),\n",
    "  use.names = FALSE)\n",
    "}"
   ]
  },
  {
   "cell_type": "code",
   "execution_count": null,
   "metadata": {},
   "outputs": [],
   "source": [
    "GRAMS <- 1\n",
    "NGramTokenizer(lyricsdata_tm[[1]])"
   ]
  },
  {
   "cell_type": "code",
   "execution_count": null,
   "metadata": {},
   "outputs": [],
   "source": [
    "GRAMS <- 2\n",
    "NGramTokenizer(lyricsdata_tm[[1]])"
   ]
  },
  {
   "cell_type": "code",
   "execution_count": null,
   "metadata": {},
   "outputs": [],
   "source": [
    "GRAMS <- 3\n",
    "NGramTokenizer(lyricsdata_tm[[1]])"
   ]
  },
  {
   "cell_type": "code",
   "execution_count": null,
   "metadata": {},
   "outputs": [],
   "source": [
    "GRAMS <- 1\n",
    "lyricsdata_dtm_1 <- DocumentTermMatrix(lyricsdata_tm,control = list(tokenize=NGramTokenizer))\n",
    "lyricsdata_dtm_1 <- removeSparseTerms(lyricsdata_dtm_1,0.99)\n",
    "head(lyricsdata_dtm_1$dimnames$Terms)\n",
    "tail(lyricsdata_dtm_1$dimnames$Terms)"
   ]
  },
  {
   "cell_type": "code",
   "execution_count": null,
   "metadata": {},
   "outputs": [],
   "source": []
  }
 ],
 "metadata": {
  "kernelspec": {
   "display_name": "R",
   "language": "R",
   "name": "ir"
  },
  "language_info": {
   "codemirror_mode": "r",
   "file_extension": ".r",
   "mimetype": "text/x-r-source",
   "name": "R",
   "pygments_lexer": "r",
   "version": "3.6.0"
  },
  "varInspector": {
   "cols": {
    "lenName": 16,
    "lenType": 16,
    "lenVar": 40
   },
   "kernels_config": {
    "python": {
     "delete_cmd_postfix": "",
     "delete_cmd_prefix": "del ",
     "library": "var_list.py",
     "varRefreshCmd": "print(var_dic_list())"
    },
    "r": {
     "delete_cmd_postfix": ") ",
     "delete_cmd_prefix": "rm(",
     "library": "var_list.r",
     "varRefreshCmd": "cat(var_dic_list()) "
    }
   },
   "types_to_exclude": [
    "module",
    "function",
    "builtin_function_or_method",
    "instance",
    "_Feature"
   ],
   "window_display": false
  }
 },
 "nbformat": 4,
 "nbformat_minor": 2
}
